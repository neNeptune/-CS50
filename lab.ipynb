{
 "cells": [
  {
   "cell_type": "markdown",
   "metadata": {},
   "source": [
    "# <center>Интерполяция.Сплайны</center>\n",
    "###  <center>Лабораторная работа №2</center>"
   ]
  },
  {
   "cell_type": "markdown",
   "metadata": {},
   "source": [
    "#### 1. Введение\n",
    "1. Запишем нашу сетку\n",
    "2. Визуализируем её"
   ]
  },
  {
   "cell_type": "code",
   "execution_count": 1,
   "metadata": {},
   "outputs": [],
   "source": [
    "from matplotlib import pyplot as plt\n",
    "import numpy as np"
   ]
  },
  {
   "cell_type": "code",
   "execution_count": 2,
   "metadata": {},
   "outputs": [
    {
     "data": {
      "text/plain": [
       "[<matplotlib.lines.Line2D at 0x7f21e86da050>]"
      ]
     },
     "execution_count": 2,
     "metadata": {},
     "output_type": "execute_result"
    },
    {
     "data": {
      "image/png": "[encoded data removed]",
      "text/plain": [
       "<Figure size 432x288 with 1 Axes>"
      ]
     },
     "metadata": {
      "needs_background": "light"
     },
     "output_type": "display_data"
    }
   ],
   "source": [
    "x = [0.17453, 0.5236, 0.87267, 1.22173, 1.5708, 1.91986, 2.26893]\n",
    "y = [0.00162, 0.00252, 0.00498, 0.0129, 0.03964, 0.1207, 0.34097]\n",
    "plt.plot(x, y)"
   ]
  },
  {
   "cell_type": "markdown",
   "metadata": {},
   "source": [
    "#### 2. Метод построения через МНК"
   ]
  },
  {
   "cell_type": "code",
   "execution_count": 3,
   "metadata": {},
   "outputs": [],
   "source": [
    "def squared_error(y, poly): #Квадратичная ошибка\n",
    "    y = np.array(y)\n",
    "    poly = np.array(poly)\n",
    "    return (y - poly).dot(y - poly)"
   ]
  },
  {
   "cell_type": "code",
   "execution_count": 4,
   "metadata": {},
   "outputs": [],
   "source": [
    "def grad_descent(x, y, n=3, num_iter = 1000000, eta=0.01): # Градиентный спуск для нахождения минимума ошибки\n",
    "    x = np.array(x)\n",
    "    y = np.array(y)\n",
    "    w = np.zeros(n+1)\n",
    "    X = np.ones(len(x))\n",
    "    for i in range(1, n+1):\n",
    "        X = np.vstack((X, np.array(x)**i)) #Создаем матрицу значений в столбцах значения x, x^2, x^3\n",
    "    iter_num = 0\n",
    "    while(squared_error(y, X.T.dot(w)) > 10**(-4)):\n",
    "        w_prev = w.copy()\n",
    "        w -= 2*eta/len(y)*X.dot(X.T.dot(w) - y)\n",
    "        if((w_prev - w).dot(w_prev - w) < 10**(-20)):\n",
    "            break\n",
    "        iter_num += 1\n",
    "    print('sqr error:', squared_error(y, X.T.dot(w)))\n",
    "    print('iters:', iter_num)\n",
    "    return w"
   ]
  },
  {
   "cell_type": "code",
   "execution_count": 5,
   "metadata": {},
   "outputs": [
    {
     "name": "stdout",
     "output_type": "stream",
     "text": [
      "sqr error: 0.0005549594619722242\n",
      "iters: 320862\n"
     ]
    }
   ],
   "source": [
    "w = grad_descent(x, y)"
   ]
  },
  {
   "cell_type": "code",
   "execution_count": 6,
   "metadata": {},
   "outputs": [],
   "source": [
    "X = np.ones(len(x))\n",
    "for i in range(1, 3+1):\n",
    "    X = np.vstack((X, np.array(x)**i))\n",
    "new_y = X.T.dot(w)"
   ]
  },
  {
   "cell_type": "code",
   "execution_count": 7,
   "metadata": {},
   "outputs": [
    {
     "data": {
      "text/plain": [
       "<matplotlib.legend.Legend at 0x7f21f516c4d0>"
      ]
     },
     "execution_count": 7,
     "metadata": {},
     "output_type": "execute_result"
    },
    {
     "data": {
      "image/png": "[encoded data removed]",
      "text/plain": [
       "<Figure size 432x288 with 1 Axes>"
      ]
     },
     "metadata": {
      "needs_background": "light"
     },
     "output_type": "display_data"
    }
   ],
   "source": [
    "plt.plot(x, new_y, label='predicted')\n",
    "plt.plot(x, y, label='real')\n",
    "plt.legend()"
   ]
  },
  {
   "cell_type": "markdown",
   "metadata": {},
   "source": [
    "#### 3. Многочлен в форме Ньютона"
   ]
  },
  {
   "cell_type": "code",
   "execution_count": 8,
   "metadata": {},
   "outputs": [],
   "source": [
    "def newton_poly(b, x0, a):\n",
    "    poly = b[0] + b[1]*(x0 - a[0]) + b[2]*(x0 - a[0])*(x0 - a[1]) + b[3]*(x0 - a[0])*(x0 - a[1])*(x0 - a[2])\n",
    "    poly += b[4]*(x0 - a[0])*(x0 - a[1])*(x0 - a[2])*(x0 - a[3])\n",
    "    poly += b[5]*(x0 - a[0])*(x0 - a[1])*(x0 - a[2])*(x0 - a[3])*(x0 - a[4])\n",
    "    poly += b[6]*(x0 - a[0])*(x0 - a[1])*(x0 - a[2])*(x0 - a[3])*(x0 - a[4])*(x0 - a[5])\n",
    "    return poly"
   ]
  },
  {
   "cell_type": "code",
   "execution_count": 9,
   "metadata": {},
   "outputs": [],
   "source": [
    "b0 = y\n",
    "b1 = []\n",
    "for i in range(1, 7):\n",
    "    b1.append((y[i] - y[i-1])/(x[i] - x[i-1]))\n",
    "b2 = []\n",
    "for i in range(1, 6):\n",
    "    b2.append((b1[i] - b1[i-1])/(x[i+1] - x[i-1]))\n",
    "b3 = []\n",
    "for i in range(1, 5):\n",
    "    b3.append((b2[i] - b2[i-1])/(x[i+2] - x[i-1]))\n",
    "b4 = []\n",
    "for i in range(1, 4):\n",
    "    b4.append((b3[i] - b3[i-1])/(x[i+3] - x[i-1]))\n",
    "b5 = []\n",
    "for i in range(1, 3):\n",
    "    b5.append((b4[i] - b4[i-1])/(x[i+4] - x[i-1]))\n",
    "b6 = (b5[1] - b5[0])/(x[6] - x[0])"
   ]
  },
  {
   "cell_type": "code",
   "execution_count": 10,
   "metadata": {},
   "outputs": [
    {
     "name": "stdout",
     "output_type": "stream",
     "text": [
      "Значение многочлена Ньютона в точках заданных: [0.00162 0.00252 0.00498 0.0129  0.03964 0.1207  0.34097]\n",
      "Зачения заданных y: [0.00162, 0.00252, 0.00498, 0.0129, 0.03964, 0.1207, 0.34097]\n"
     ]
    }
   ],
   "source": [
    "b = [b0[0], b1[0], b2[0], b3[0], b4[0], b5[0], b6]\n",
    "x0 = np.array(x)\n",
    "print('Значение многочлена Ньютона в точках заданных:', newton_poly(b, x0, a=x))\n",
    "print('Зачения заданных y:', y)"
   ]
  },
  {
   "cell_type": "markdown",
   "metadata": {},
   "source": [
    "Как видим полностью совпадает с нашими изначальными y"
   ]
  },
  {
   "cell_type": "code",
   "execution_count": 200,
   "metadata": {},
   "outputs": [],
   "source": [
    "#Производная многочлена Ньютона:\n",
    "def derirative(b, x0, a):\n",
    "    poly = b[1] + b[2]*(x0 - a[1]) + b[2]*(x0 - a[0])\n",
    "    \n",
    "    poly += b[3]*(x0 - a[0])*(x0 - a[1]) + b[3]*(x0 - a[0])*(x0 - a[2]) + b[3]*(x0 - a[2])*(x0 - a[1])\n",
    "    \n",
    "    poly += b[4]*(x0 - a[1])*(x0 - a[2])*(x0 - a[3]) + b[4]*(x0 - a[0])*(x0 - a[2])*(x0 - a[3])\n",
    "    poly += b[4]*(x0 - a[0])*(x0 - a[1])*(x0 - a[3]) + b[4]*(x0 - a[0])*(x0 - a[1])*(x0 - a[2])\n",
    "    \n",
    "    poly += b[5]*(x0 - a[1])*(x0 - a[2])*(x0 - a[3])*(x0 - a[4]) + b[5]*(x0 - a[0])*(x0 - a[2])*(x0 - a[3])*(x0 - a[4])\n",
    "    poly += b[5]*(x0 - a[0])*(x0 - a[1])*(x0 - a[3])*(x0 - a[4]) + b[5]*(x0 - a[0])*(x0 - a[1])*(x0 - a[2])*(x0 - a[4])\n",
    "    poly += b[5]*(x0 - a[0])*(x0 - a[1])*(x0 - a[2])*(x0 - a[3])\n",
    "    \n",
    "    poly += b[6]*(x0 - a[1])*(x0 - a[2])*(x0 - a[3])*(x0 - a[4])*(x0 - a[5])\n",
    "    poly += b[6]*(x0 - a[0])*(x0 - a[2])*(x0 - a[3])*(x0 - a[4])*(x0 - a[5])\n",
    "    poly += b[6]*(x0 - a[0])*(x0 - a[1])*(x0 - a[3])*(x0 - a[4])*(x0 - a[5])\n",
    "    poly += b[6]*(x0 - a[0])*(x0 - a[1])*(x0 - a[2])*(x0 - a[4])*(x0 - a[5])\n",
    "    poly += b[6]*(x0 - a[0])*(x0 - a[1])*(x0 - a[2])*(x0 - a[3])*(x0 - a[5])\n",
    "    poly += b[6]*(x0 - a[0])*(x0 - a[1])*(x0 - a[2])*(x0 - a[3])*(x0 - a[4])\n",
    "    \n",
    "    return poly"
   ]
  },
  {
   "cell_type": "code",
   "execution_count": 20,
   "metadata": {},
   "outputs": [],
   "source": [
    "X = np.ones(len(x))\n",
    "for i in range(1, 6):\n",
    "    X = np.vstack((X, np.array(x)**i))"
   ]
  },
  {
   "cell_type": "code",
   "execution_count": 21,
   "metadata": {},
   "outputs": [
    {
     "data": {
      "text/plain": [
       "(6, 7)"
      ]
     },
     "execution_count": 21,
     "metadata": {},
     "output_type": "execute_result"
    }
   ],
   "source": [
    "X.shape"
   ]
  },
  {
   "cell_type": "code",
   "execution_count": 26,
   "metadata": {},
   "outputs": [
    {
     "data": {
      "text/plain": [
       "array([[1.00000000e+00, 1.00000000e+00, 1.00000000e+00, 1.00000000e+00,\n",
       "        1.00000000e+00, 1.00000000e+00, 1.00000000e+00],\n",
       "       [1.74530000e-01, 5.23600000e-01, 8.72670000e-01, 1.22173000e+00,\n",
       "        1.57080000e+00, 1.91986000e+00, 2.26893000e+00],\n",
       "       [3.04607209e-02, 2.74156960e-01, 7.61552929e-01, 1.49262419e+00,\n",
       "        2.46741264e+00, 3.68586242e+00, 5.14804334e+00],\n",
       "       [5.31630962e-03, 1.43548584e-01, 6.64584394e-01, 1.82358376e+00,\n",
       "        3.87581177e+00, 7.07633982e+00, 1.16805500e+01],\n",
       "       [9.27855518e-04, 7.51620387e-02, 5.79962864e-01, 2.22792698e+00,\n",
       "        6.08812514e+00, 1.35855818e+01, 2.65023503e+01],\n",
       "       [1.61938624e-04, 3.93548435e-02, 5.06116192e-01, 2.72192523e+00,\n",
       "        9.56322696e+00, 2.60824150e+01, 6.01319776e+01]])"
      ]
     },
     "execution_count": 26,
     "metadata": {},
     "output_type": "execute_result"
    }
   ],
   "source": [
    "X"
   ]
  },
  {
   "cell_type": "markdown",
   "metadata": {},
   "source": [
    "#### 4. Построение сплайнов"
   ]
  },
  {
   "cell_type": "code",
   "execution_count": 201,
   "metadata": {},
   "outputs": [],
   "source": [
    "def spline(a, x):\n",
    "    return a[0] + a[1]*x + a[2]*(x**2) + a[3]*(x**3)\n",
    "def spline_coef(x1, x2, y1, y2, b, x):\n",
    "    a0 = (-derirative(b, x2, x) * (x1**2) * x2 * (x2 - x1) + y2*(x1**2)*(3*x2 - x1))/((x2 - x1)**3)\n",
    "    a0 += (y1*(x2**2)*(x2 - 3*x1) - derirative(b, x1, x)*x1*(x2**2)*(x2 - x1))/((x2 - x1)**3)\n",
    "    \n",
    "    a1 = (derirative(b, x2, x)*x1*(2*x2 + x1)*(x2 - x1) - 6*(y2 - y1)*x1*x2)/((x2 - x1)**3)\n",
    "    a1 += (derirative(b, x1, x)*x2*(x2 + 2*x1)*(x2 - x1))/((x2 - x1)**3)\n",
    "    \n",
    "    a2 = (-derirative(b,x2,x)*(x2 - x1)*(x2 + 2*x1) + 3*(y2 - y1)*(x2 + x1))/((x2 - x1)**3)\n",
    "    a2 -= (derirative(b, x1, x)*(x2 - x1)*(x1 + 2*x2))/((x2 - x1)**3)\n",
    "    \n",
    "    a3 = (derirative(b, x2, x)*(x2 - x1) - 2*(y2 - y1) + derirative(b, x1, x))/((x2 - x1)**3)\n",
    "    a = [a0, a1, a2, a3]\n",
    "    return a"
   ]
  },
  {
   "cell_type": "code",
   "execution_count": 193,
   "metadata": {},
   "outputs": [
    {
     "name": "stdout",
     "output_type": "stream",
     "text": [
      "Spline y: [2. 6.]\n",
      "Real y: [2, 6]\n"
     ]
    }
   ],
   "source": [
    "#Тестовый пример\n",
    "# НЕ ЗАПУСКАТЬ (не получится :))\n",
    "def poly(x):\n",
    "    return x**2 + x\n",
    "def derirative(b, x, x_):\n",
    "    return 2*x + x\n",
    "a = spline_coef(1, 2, poly(1), poly(2), [1, 1], [1, 2])\n",
    "new_y = spline(a, np.array([1, 2]))\n",
    "print('Spline y:', new_y)\n",
    "print('Real y:', [poly(1), poly(2)])"
   ]
  },
  {
   "cell_type": "markdown",
   "metadata": {},
   "source": [
    "Получается все верно"
   ]
  },
  {
   "cell_type": "code",
   "execution_count": 203,
   "metadata": {},
   "outputs": [
    {
     "name": "stdout",
     "output_type": "stream",
     "text": [
      "Сплайн между точками 0.5236 и 0.87267 : 0.089196x^3 + -0.024260x^2 + 0.017013x + -0.002036\n"
     ]
    },
    {
     "data": {
      "image/png": "[encoded data removed]",
      "text/plain": [
       "<Figure size 432x288 with 1 Axes>"
      ]
     },
     "metadata": {
      "needs_background": "light"
     },
     "output_type": "display_data"
    }
   ],
   "source": [
    "def spline_print(x1, x2, y1, y2, b, x):\n",
    "    a = spline_coef(x1, x2, y1, y2, b, x)\n",
    "    print('Сплайн между точками', x1, 'и', x2, ':', \n",
    "          '{:f}x^3 + {:f}x^2 + {:f}x + {:f}'.format(a[3], a[2], a[1], a[0]))\n",
    "    new_y = spline(a, np.array(x))\n",
    "    plt.plot(x, new_y, label='spline')\n",
    "    plt.plot(x, y, label='real')\n",
    "    plt.legend()\n",
    "spline_print(x[1], x[2], y[1], y[2], b, x)"
   ]
  },
  {
   "cell_type": "code",
   "execution_count": null,
   "metadata": {},
   "outputs": [],
   "source": []
  }
 ],
 "metadata": {
  "kernelspec": {
   "display_name": "Python 3",
   "language": "python",
   "name": "python3"
  },
  "language_info": {
   "codemirror_mode": {
    "name": "ipython",
    "version": 3
   },
   "file_extension": ".py",
   "mimetype": "text/x-python",
   "name": "python",
   "nbconvert_exporter": "python",
   "pygments_lexer": "ipython3",
   "version": "3.7.6"
  }
 },
 "nbformat": 4,
 "nbformat_minor": 4
}
